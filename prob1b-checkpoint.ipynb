{
 "cells": [
  {
   "cell_type": "code",
   "execution_count": 1,
   "id": "0bd0f15c-379e-4b62-bfbb-35bb0e07ffdd",
   "metadata": {},
   "outputs": [],
   "source": [
    "import torch\n",
    "import numpy as np"
   ]
  },
  {
   "cell_type": "code",
   "execution_count": 2,
   "id": "31c6ca14-b54c-4741-a862-85f9f7461bad",
   "metadata": {},
   "outputs": [],
   "source": [
    "import torch.nn as nn\n",
    "import torch.optim as optim\n",
    "from torchvision import datasets, transforms\n",
    "from torch.utils.data import DataLoader"
   ]
  },
  {
   "cell_type": "code",
   "execution_count": 10,
   "id": "cfdcfe51-2a5f-4fab-83c9-2f436a28a43c",
   "metadata": {},
   "outputs": [],
   "source": [
    "transform = transforms.ToTensor()\n",
    "train_data = datasets.MNIST(root='./data',train =True,transform = transform,download=True)\n",
    "test_data=datasets.MNIST(root='./data',train=False,transform=transform)\n",
    "train_loader=DataLoader(train_data,batch_size=32,shuffle=True)\n",
    "test_loader=DataLoader(test_data,batch_size=1000)"
   ]
  },
  {
   "cell_type": "code",
   "execution_count": 11,
   "id": "6b641e2a-7ce8-465d-993e-1c4ce6e9dbac",
   "metadata": {},
   "outputs": [],
   "source": [
    "class CNN(nn.Module):\n",
    "    def __init__(self):\n",
    "        super(CNN, self).__init__()\n",
    "        self.conv_layer = nn.Sequential(\n",
    "            nn.Conv2d(1, 32, kernel_size=3, padding=1),  # output: 32x28x28\n",
    "            nn.ReLU(),\n",
    "            nn.MaxPool2d(2, 2),                         # output: 32x14x14\n",
    "\n",
    "            nn.Conv2d(32, 64, kernel_size=3),           # output: 64x12x12\n",
    "            nn.ReLU(),\n",
    "            nn.MaxPool2d(2, 2)                          # output: 64x6x6\n",
    "        )\n",
    "        self.fc_layer = nn.Sequential(\n",
    "            nn.Flatten(),                               # output: 64*6*6 = 2304\n",
    "            nn.Linear(64*6*6, 128),\n",
    "            nn.ReLU(),\n",
    "            nn.Linear(128, 10)\n",
    "        )\n",
    "\n",
    "    def forward(self, x):\n",
    "        x = self.conv_layer(x)\n",
    "        x = self.fc_layer(x)\n",
    "        return x"
   ]
  },
  {
   "cell_type": "code",
   "execution_count": 12,
   "id": "d678e27e-dae3-41ba-970e-fa91b91a6c80",
   "metadata": {},
   "outputs": [],
   "source": [
    "model=CNN()\n",
    "criterion=nn.CrossEntropyLoss()\n",
    "optimizer=optim.Adam(model.parameters(),lr=0.001)"
   ]
  },
  {
   "cell_type": "code",
   "execution_count": 13,
   "id": "3e1bbc4a-f193-4cef-8680-d92e66ac3137",
   "metadata": {},
   "outputs": [],
   "source": [
    "for epoch in range(1):\n",
    "    for images, labels in train_loader:\n",
    "        outputs=model(images)\n",
    "        loss=criterion(outputs,labels)\n",
    "        optimizer.zero_grad()\n",
    "        loss.backward()\n",
    "        optimizer.step()       "
   ]
  },
  {
   "cell_type": "code",
   "execution_count": 14,
   "id": "8aed9fc0-49a1-4318-872c-a2e5da466826",
   "metadata": {},
   "outputs": [
    {
     "name": "stdout",
     "output_type": "stream",
     "text": [
      "CNN Accuracy 98.48\n"
     ]
    }
   ],
   "source": [
    "correct = 0\n",
    "total = 0\n",
    "with torch.no_grad():\n",
    "    for images, labels in test_loader:\n",
    "        outputs = model(images)\n",
    "        _, predicted = torch.max(outputs.data, 1)\n",
    "        total += labels.size(0)\n",
    "        correct += (predicted == labels).sum().item()\n",
    "\n",
    "print('CNN Accuracy',100 * (correct / total))"
   ]
  },
  {
   "cell_type": "code",
   "execution_count": null,
   "id": "da582fdd-ddcc-49a3-a249-24e57c08cce8",
   "metadata": {},
   "outputs": [],
   "source": []
  }
 ],
 "metadata": {
  "kernelspec": {
   "display_name": "Python [conda env:base] *",
   "language": "python",
   "name": "conda-base-py"
  },
  "language_info": {
   "codemirror_mode": {
    "name": "ipython",
    "version": 3
   },
   "file_extension": ".py",
   "mimetype": "text/x-python",
   "name": "python",
   "nbconvert_exporter": "python",
   "pygments_lexer": "ipython3",
   "version": "3.12.7"
  }
 },
 "nbformat": 4,
 "nbformat_minor": 5
}
